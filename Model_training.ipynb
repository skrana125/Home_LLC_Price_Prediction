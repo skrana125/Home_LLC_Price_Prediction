{
 "nbformat": 4,
 "nbformat_minor": 0,
 "metadata": {
  "colab": {
   "provenance": []
  },
  "kernelspec": {
   "name": "python3",
   "language": "python",
   "display_name": "Python 3 (ipykernel)"
  },
  "language_info": {
   "name": "python"
  }
 },
 "cells": [
  {
   "cell_type": "markdown",
   "source": [
    "## Model Training"
   ],
   "metadata": {
    "id": "7DBlZF-tqDoG"
   }
  },
  {
   "cell_type": "markdown",
   "source": [
    "### Data Reading"
   ],
   "metadata": {
    "id": "eWlWtlOcqQSR"
   }
  },
  {
   "cell_type": "code",
   "execution_count": 31,
   "metadata": {
    "id": "DcORWID43rnO",
    "ExecuteTime": {
     "end_time": "2024-06-10T18:45:44.908856600Z",
     "start_time": "2024-06-10T18:45:44.845839800Z"
    }
   },
   "outputs": [],
   "source": [
    "import pandas as pd\n",
    "import numpy as np\n",
    "from sklearn.model_selection import train_test_split, cross_val_score\n",
    "from sklearn.linear_model import LassoCV\n",
    "from sklearn.metrics import mean_squared_error, r2_score"
   ]
  },
  {
   "cell_type": "code",
   "source": [
    "df = pd.read_csv(\"Final Data/df_final.csv\")"
   ],
   "metadata": {
    "id": "tiYWVHABqsH4",
    "ExecuteTime": {
     "end_time": "2024-06-10T18:45:49.348112700Z",
     "start_time": "2024-06-10T18:45:49.078326200Z"
    }
   },
   "execution_count": 32,
   "outputs": []
  },
  {
   "cell_type": "code",
   "source": [
    "df.head()"
   ],
   "metadata": {
    "colab": {
     "base_uri": "https://localhost:8080/",
     "height": 342
    },
    "id": "n4WBPB8Eqzif",
    "outputId": "305fe6f5-3cd8-49be-82ee-5bdfff128e2d",
    "ExecuteTime": {
     "end_time": "2024-06-10T18:26:44.965021300Z",
     "start_time": "2024-06-10T18:26:44.922302600Z"
    }
   },
   "execution_count": 3,
   "outputs": [
    {
     "data": {
      "text/plain": "         DATE  consumer_confidence_index  consumer_price_index  emratio   \n0  2004-01-01                      103.8                 186.3     62.3  \\\n1  2004-01-31                        0.0                   0.0      0.0   \n2  2004-02-01                       94.4                 186.7     62.3   \n3  2004-02-29                        0.0                   0.0      0.0   \n4  2004-03-01                       95.8                 187.1     62.2   \n\n         GDP  house_start  income  median_sales_price  mortgage_rate   \n0      0.000       3822.0  9731.8            212700.0         5.7125  \\\n1  11923.447          0.0     0.0                 0.0         0.0000   \n2      0.000       3692.0  9765.4            212700.0         5.6350   \n3  11923.447          0.0     0.0                 0.0         0.0000   \n4      0.000       3996.0  9815.8            212700.0         5.4450   \n\n   population   target  unemployed_rate  \n0    292046.0  141.646              5.7  \n1         0.0    0.000              0.0  \n2    292230.0  143.191              5.6  \n3         0.0    0.000              0.0  \n4    292434.0  145.058              5.8  ",
      "text/html": "<div>\n<style scoped>\n    .dataframe tbody tr th:only-of-type {\n        vertical-align: middle;\n    }\n\n    .dataframe tbody tr th {\n        vertical-align: top;\n    }\n\n    .dataframe thead th {\n        text-align: right;\n    }\n</style>\n<table border=\"1\" class=\"dataframe\">\n  <thead>\n    <tr style=\"text-align: right;\">\n      <th></th>\n      <th>DATE</th>\n      <th>consumer_confidence_index</th>\n      <th>consumer_price_index</th>\n      <th>emratio</th>\n      <th>GDP</th>\n      <th>house_start</th>\n      <th>income</th>\n      <th>median_sales_price</th>\n      <th>mortgage_rate</th>\n      <th>population</th>\n      <th>target</th>\n      <th>unemployed_rate</th>\n    </tr>\n  </thead>\n  <tbody>\n    <tr>\n      <th>0</th>\n      <td>2004-01-01</td>\n      <td>103.8</td>\n      <td>186.3</td>\n      <td>62.3</td>\n      <td>0.000</td>\n      <td>3822.0</td>\n      <td>9731.8</td>\n      <td>212700.0</td>\n      <td>5.7125</td>\n      <td>292046.0</td>\n      <td>141.646</td>\n      <td>5.7</td>\n    </tr>\n    <tr>\n      <th>1</th>\n      <td>2004-01-31</td>\n      <td>0.0</td>\n      <td>0.0</td>\n      <td>0.0</td>\n      <td>11923.447</td>\n      <td>0.0</td>\n      <td>0.0</td>\n      <td>0.0</td>\n      <td>0.0000</td>\n      <td>0.0</td>\n      <td>0.000</td>\n      <td>0.0</td>\n    </tr>\n    <tr>\n      <th>2</th>\n      <td>2004-02-01</td>\n      <td>94.4</td>\n      <td>186.7</td>\n      <td>62.3</td>\n      <td>0.000</td>\n      <td>3692.0</td>\n      <td>9765.4</td>\n      <td>212700.0</td>\n      <td>5.6350</td>\n      <td>292230.0</td>\n      <td>143.191</td>\n      <td>5.6</td>\n    </tr>\n    <tr>\n      <th>3</th>\n      <td>2004-02-29</td>\n      <td>0.0</td>\n      <td>0.0</td>\n      <td>0.0</td>\n      <td>11923.447</td>\n      <td>0.0</td>\n      <td>0.0</td>\n      <td>0.0</td>\n      <td>0.0000</td>\n      <td>0.0</td>\n      <td>0.000</td>\n      <td>0.0</td>\n    </tr>\n    <tr>\n      <th>4</th>\n      <td>2004-03-01</td>\n      <td>95.8</td>\n      <td>187.1</td>\n      <td>62.2</td>\n      <td>0.000</td>\n      <td>3996.0</td>\n      <td>9815.8</td>\n      <td>212700.0</td>\n      <td>5.4450</td>\n      <td>292434.0</td>\n      <td>145.058</td>\n      <td>5.8</td>\n    </tr>\n  </tbody>\n</table>\n</div>"
     },
     "execution_count": 3,
     "metadata": {},
     "output_type": "execute_result"
    }
   ]
  },
  {
   "cell_type": "markdown",
   "source": [
    "### Data splitting and Scaling"
   ],
   "metadata": {
    "id": "84CxrB_BqWl-"
   }
  },
  {
   "cell_type": "code",
   "source": [
    "X = df.drop(columns=['DATE', 'target'], axis=1)\n",
    "y = df.target"
   ],
   "metadata": {
    "id": "BCYlrLpbrE9h",
    "ExecuteTime": {
     "end_time": "2024-06-10T18:26:50.448259300Z",
     "start_time": "2024-06-10T18:26:50.407750300Z"
    }
   },
   "execution_count": 4,
   "outputs": []
  },
  {
   "cell_type": "code",
   "source": [
    "X_train, X_test, y_train, y_test = train_test_split(X, y, test_size=0.2, random_state=42)"
   ],
   "metadata": {
    "id": "0ykbolKcrbcy",
    "ExecuteTime": {
     "end_time": "2024-06-10T18:26:51.370001300Z",
     "start_time": "2024-06-10T18:26:51.339561600Z"
    }
   },
   "execution_count": 5,
   "outputs": []
  },
  {
   "cell_type": "code",
   "source": [
    "from sklearn.preprocessing import StandardScaler\n",
    "\n",
    "scaler = StandardScaler()\n",
    "X_train = scaler.fit_transform(X_train)\n",
    "X_test = scaler.transform(X_test)"
   ],
   "metadata": {
    "id": "gEXzm9ZArh5-",
    "ExecuteTime": {
     "end_time": "2024-06-10T18:34:10.214167300Z",
     "start_time": "2024-06-10T18:34:10.087496700Z"
    }
   },
   "execution_count": 10,
   "outputs": []
  },
  {
   "cell_type": "markdown",
   "source": [
    "### Model Training"
   ],
   "metadata": {
    "id": "W0OlHqowqgTp"
   }
  },
  {
   "cell_type": "code",
   "source": [
    "lasso_cv_model = LassoCV(alphas=np.logspace(-8, 4, 200),cv=5, max_iter=20000)\n",
    "\n",
    "lasso_cv_model.fit(X_train, y_train)\n",
    "\n",
    "lasso_cv_predictions = lasso_cv_model.predict(X_test)"
   ],
   "metadata": {
    "id": "D9aDBzN5qTLu",
    "ExecuteTime": {
     "end_time": "2024-06-10T18:41:23.101734400Z",
     "start_time": "2024-06-10T18:41:22.689016600Z"
    }
   },
   "execution_count": 21,
   "outputs": []
  },
  {
   "cell_type": "code",
   "source": [
    "optimal_alpha = lasso_cv_model.alpha_\n",
    "\n",
    "mse = mean_squared_error(y_test, lasso_cv_predictions)\n",
    "\n",
    "rmse = np.sqrt(mse)\n",
    "\n",
    "r2 = r2_score(y_test, lasso_cv_predictions)\n",
    "\n",
    "print(f\"Optimal Alpha: {optimal_alpha:.4f}\")\n",
    "print(f\"Mean Squared Error (MSE): {mse:.2f}\")\n",
    "print(f\"RMSE: {rmse:2f}\")\n",
    "print(f\"R-squared (R2): {r2:.2f}\")"
   ],
   "metadata": {
    "colab": {
     "base_uri": "https://localhost:8080/"
    },
    "id": "PBMfc42IsPK7",
    "outputId": "d02167f8-a225-49ef-8c08-8c7c260810fb",
    "ExecuteTime": {
     "end_time": "2024-06-10T18:41:26.089190Z",
     "start_time": "2024-06-10T18:41:26.053401200Z"
    }
   },
   "execution_count": 22,
   "outputs": [
    {
     "name": "stdout",
     "output_type": "stream",
     "text": [
      "Optimal Alpha: 0.0000\n",
      "Mean Squared Error (MSE): 68.93\n",
      "RMSE: 8.302545\n",
      "R-squared (R2): 0.99\n"
     ]
    }
   ]
  },
  {
   "cell_type": "markdown",
   "source": [
    "### Cross validation"
   ],
   "metadata": {
    "id": "l2aTkKx6qlT2"
   }
  },
  {
   "cell_type": "code",
   "source": [
    "cross_val_scores = cross_val_score(lasso_cv_model, X_train, y_train, cv=5, scoring='r2')\n",
    "print(\"Cross-Validation R-squared Scores:\")\n",
    "print(cross_val_scores)"
   ],
   "metadata": {
    "colab": {
     "base_uri": "https://localhost:8080/"
    },
    "id": "fDUZlPBkezFE",
    "outputId": "a02dad4d-2c94-4932-d01b-c6e39da9106f",
    "ExecuteTime": {
     "end_time": "2024-06-10T18:41:31.162578100Z",
     "start_time": "2024-06-10T18:41:29.321030100Z"
    }
   },
   "execution_count": 23,
   "outputs": [
    {
     "name": "stdout",
     "output_type": "stream",
     "text": [
      "Cross-Validation R-squared Scores:\n",
      "[0.99626546 0.99481963 0.99584466 0.99491084 0.96678429]\n"
     ]
    }
   ]
  },
  {
   "cell_type": "code",
   "source": [
    "mean_r2 = cross_val_scores.mean()\n",
    "std_r2 = cross_val_scores.std()\n",
    "\n",
    "print(f\"Mean R-squared: {mean_r2:.4f}\")\n",
    "print(f\"Standard Deviation of R-squared: {std_r2:.4f}\")"
   ],
   "metadata": {
    "colab": {
     "base_uri": "https://localhost:8080/"
    },
    "id": "0v8Q-cg2giUh",
    "outputId": "517b9313-bab0-46a5-d9a7-7b7719d82a17",
    "ExecuteTime": {
     "end_time": "2024-06-10T18:41:39.964578500Z",
     "start_time": "2024-06-10T18:41:39.929460800Z"
    }
   },
   "execution_count": 24,
   "outputs": [
    {
     "name": "stdout",
     "output_type": "stream",
     "text": [
      "Mean R-squared: 0.9897\n",
      "Standard Deviation of R-squared: 0.0115\n"
     ]
    }
   ]
  },
  {
   "cell_type": "code",
   "source": [
    "print(0.1 * rmse)\n",
    "print(0.1 * df['target'].mean()) # rmse should be less than the 10% of mean of target variable"
   ],
   "metadata": {
    "colab": {
     "base_uri": "https://localhost:8080/"
    },
    "id": "DfpG3pGRwjxX",
    "outputId": "a82738d5-2f47-45c2-83f9-189c217b6ad5",
    "ExecuteTime": {
     "end_time": "2024-06-10T18:41:44.370210600Z",
     "start_time": "2024-06-10T18:41:44.320737700Z"
    }
   },
   "execution_count": 25,
   "outputs": [
    {
     "name": "stdout",
     "output_type": "stream",
     "text": [
      "0.8302545437339761\n",
      "9.128008661417324\n"
     ]
    }
   ]
  },
  {
   "cell_type": "markdown",
   "source": [
    "### Most Prominent features and least prominent features"
   ],
   "metadata": {
    "id": "Kwag6Gekqp-e"
   }
  },
  {
   "cell_type": "code",
   "source": [
    "# coefficients and corresponding feature names\n",
    "lasso_coefficients = lasso_cv_model.coef_\n",
    "feature_names = X.columns\n",
    "\n",
    "coefficients_df = pd.DataFrame({'Feature': feature_names, 'Coefficient': lasso_coefficients})\n",
    "\n",
    "non_zero_coefficients_df = coefficients_df[coefficients_df['Coefficient'] != 0]\n",
    "zero_coefficients_df = coefficients_df[coefficients_df['Coefficient'] == 0]"
   ],
   "metadata": {
    "id": "ewMj2d7osUjj",
    "ExecuteTime": {
     "end_time": "2024-06-10T18:41:49.911365600Z",
     "start_time": "2024-06-10T18:41:49.584093800Z"
    }
   },
   "execution_count": 26,
   "outputs": []
  },
  {
   "cell_type": "code",
   "source": [
    "non_zero_coefficients_df"
   ],
   "metadata": {
    "colab": {
     "base_uri": "https://localhost:8080/",
     "height": 425
    },
    "id": "--SwhyjqtPjp",
    "outputId": "ae2dd6a0-da5a-424a-d005-920a30520baf",
    "ExecuteTime": {
     "end_time": "2024-06-10T18:41:53.322904400Z",
     "start_time": "2024-06-10T18:41:52.789970800Z"
    }
   },
   "execution_count": 27,
   "outputs": [
    {
     "data": {
      "text/plain": "                     Feature  Coefficient\n0  consumer_confidence_index   -46.409475\n1       consumer_price_index   -56.440373\n2                    emratio   -16.675320\n3                        GDP     2.849799\n4                house_start    22.443087\n5                     income    47.405535\n6         median_sales_price    45.116225\n7              mortgage_rate     4.368718\n8                 population   114.015016\n9            unemployed_rate   -10.348133",
      "text/html": "<div>\n<style scoped>\n    .dataframe tbody tr th:only-of-type {\n        vertical-align: middle;\n    }\n\n    .dataframe tbody tr th {\n        vertical-align: top;\n    }\n\n    .dataframe thead th {\n        text-align: right;\n    }\n</style>\n<table border=\"1\" class=\"dataframe\">\n  <thead>\n    <tr style=\"text-align: right;\">\n      <th></th>\n      <th>Feature</th>\n      <th>Coefficient</th>\n    </tr>\n  </thead>\n  <tbody>\n    <tr>\n      <th>0</th>\n      <td>consumer_confidence_index</td>\n      <td>-46.409475</td>\n    </tr>\n    <tr>\n      <th>1</th>\n      <td>consumer_price_index</td>\n      <td>-56.440373</td>\n    </tr>\n    <tr>\n      <th>2</th>\n      <td>emratio</td>\n      <td>-16.675320</td>\n    </tr>\n    <tr>\n      <th>3</th>\n      <td>GDP</td>\n      <td>2.849799</td>\n    </tr>\n    <tr>\n      <th>4</th>\n      <td>house_start</td>\n      <td>22.443087</td>\n    </tr>\n    <tr>\n      <th>5</th>\n      <td>income</td>\n      <td>47.405535</td>\n    </tr>\n    <tr>\n      <th>6</th>\n      <td>median_sales_price</td>\n      <td>45.116225</td>\n    </tr>\n    <tr>\n      <th>7</th>\n      <td>mortgage_rate</td>\n      <td>4.368718</td>\n    </tr>\n    <tr>\n      <th>8</th>\n      <td>population</td>\n      <td>114.015016</td>\n    </tr>\n    <tr>\n      <th>9</th>\n      <td>unemployed_rate</td>\n      <td>-10.348133</td>\n    </tr>\n  </tbody>\n</table>\n</div>"
     },
     "execution_count": 27,
     "metadata": {},
     "output_type": "execute_result"
    }
   ]
  },
  {
   "cell_type": "code",
   "source": [
    "zero_coefficients_df"
   ],
   "metadata": {
    "colab": {
     "base_uri": "https://localhost:8080/",
     "height": 300
    },
    "id": "e93hxeHYvO9L",
    "outputId": "f5243982-3547-4711-c078-a7137616e7fa",
    "ExecuteTime": {
     "end_time": "2024-06-10T18:44:31.746710200Z",
     "start_time": "2024-06-10T18:44:31.684715200Z"
    }
   },
   "execution_count": 29,
   "outputs": [
    {
     "data": {
      "text/plain": "Empty DataFrame\nColumns: [Feature, Coefficient]\nIndex: []",
      "text/html": "<div>\n<style scoped>\n    .dataframe tbody tr th:only-of-type {\n        vertical-align: middle;\n    }\n\n    .dataframe tbody tr th {\n        vertical-align: top;\n    }\n\n    .dataframe thead th {\n        text-align: right;\n    }\n</style>\n<table border=\"1\" class=\"dataframe\">\n  <thead>\n    <tr style=\"text-align: right;\">\n      <th></th>\n      <th>Feature</th>\n      <th>Coefficient</th>\n    </tr>\n  </thead>\n  <tbody>\n  </tbody>\n</table>\n</div>"
     },
     "execution_count": 29,
     "metadata": {},
     "output_type": "execute_result"
    }
   ]
  },
  {
   "cell_type": "markdown",
   "source": [
    "### Predicted vs Observed"
   ],
   "metadata": {
    "id": "nps0kQf-s0Bv"
   }
  },
  {
   "cell_type": "code",
   "source": [
    "import numpy as np\n",
    "import matplotlib.pyplot as plt\n",
    "\n",
    "plt.figure(figsize=(8, 6))\n",
    "plt.scatter(y_test, lasso_cv_predictions, alpha=0.5)\n",
    "plt.xlabel(\"Observed Values\")\n",
    "plt.ylabel(\"Predicted Values\")\n",
    "plt.title(\"Predicted vs. Observed Values\")\n",
    "plt.grid(True)\n",
    "\n",
    "# Add a diagonal line for reference (perfect predictions)\n",
    "x = np.linspace(min(y_test), max(y_test), 100)\n",
    "plt.plot(x, x, color='red', linestyle='--')\n",
    "\n",
    "plt.show()"
   ],
   "metadata": {
    "colab": {
     "base_uri": "https://localhost:8080/",
     "height": 564
    },
    "id": "rP_zNesnzSPb",
    "outputId": "d6d6f416-1d43-4477-dae8-227ff9cb1ace",
    "ExecuteTime": {
     "end_time": "2024-06-10T18:44:50.520564900Z",
     "start_time": "2024-06-10T18:44:48.791772600Z"
    }
   },
   "execution_count": 30,
   "outputs": [
    {
     "data": {
      "text/plain": "<Figure size 800x600 with 1 Axes>",
      "image/png": "[encoded data removed]"
     },
     "metadata": {},
     "output_type": "display_data"
    }
   ]
  }
 ]
}
