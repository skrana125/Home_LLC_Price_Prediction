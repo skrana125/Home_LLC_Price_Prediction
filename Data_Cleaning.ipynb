{
 "cells": [
  {
   "cell_type": "markdown",
   "source": [
    "<h1> Data Cleaning </h1>"
   ],
   "metadata": {
    "collapsed": false
   }
  },
  {
   "cell_type": "code",
   "execution_count": 3,
   "metadata": {
    "collapsed": true,
    "ExecuteTime": {
     "end_time": "2024-06-10T09:57:08.812774200Z",
     "start_time": "2024-06-10T09:57:08.784764800Z"
    }
   },
   "outputs": [],
   "source": [
    "import  pandas as pd\n",
    "import os"
   ]
  },
  {
   "cell_type": "code",
   "execution_count": 17,
   "outputs": [],
   "source": [
    "# creating directory to store clean data\n",
    "directory_path = \"Cleaned Data\"\n",
    "os.makedirs(directory_path, exist_ok=True)\n",
    "\n",
    "directory_Data = \"Raw Data\"\n",
    "os.makedirs(directory_Data, exist_ok=True)"
   ],
   "metadata": {
    "collapsed": false,
    "ExecuteTime": {
     "end_time": "2024-06-10T10:28:09.841512200Z",
     "start_time": "2024-06-10T10:28:09.802517Z"
    }
   }
  },
  {
   "cell_type": "markdown",
   "source": [
    "<h2>1. Target</h2>\n",
    "<h3> <i>S&P/Case-Shiller U.S. National Home Price Index</i></h3>"
   ],
   "metadata": {
    "collapsed": false
   }
  },
  {
   "cell_type": "code",
   "execution_count": 84,
   "outputs": [
    {
     "data": {
      "text/plain": "             target\nDATE               \n2004-01-01  141.646\n2004-02-01  143.191\n2004-03-01  145.058\n2004-04-01  146.592\n2004-05-01  148.185",
      "text/html": "<div>\n<style scoped>\n    .dataframe tbody tr th:only-of-type {\n        vertical-align: middle;\n    }\n\n    .dataframe tbody tr th {\n        vertical-align: top;\n    }\n\n    .dataframe thead th {\n        text-align: right;\n    }\n</style>\n<table border=\"1\" class=\"dataframe\">\n  <thead>\n    <tr style=\"text-align: right;\">\n      <th></th>\n      <th>target</th>\n    </tr>\n    <tr>\n      <th>DATE</th>\n      <th></th>\n    </tr>\n  </thead>\n  <tbody>\n    <tr>\n      <th>2004-01-01</th>\n      <td>141.646</td>\n    </tr>\n    <tr>\n      <th>2004-02-01</th>\n      <td>143.191</td>\n    </tr>\n    <tr>\n      <th>2004-03-01</th>\n      <td>145.058</td>\n    </tr>\n    <tr>\n      <th>2004-04-01</th>\n      <td>146.592</td>\n    </tr>\n    <tr>\n      <th>2004-05-01</th>\n      <td>148.185</td>\n    </tr>\n  </tbody>\n</table>\n</div>"
     },
     "execution_count": 84,
     "metadata": {},
     "output_type": "execute_result"
    }
   ],
   "source": [
    "# reading target data\n",
    "target_data = pd.read_csv(\"./Raw Data/CSUSHPISA.csv\")\n",
    "\n",
    "# Setting DATE as index, column renaming, setting DATE as index, filtering data from \"2024-01-01\":\"2024-03-01\".\n",
    "target_data.set_index('DATE', inplace=True)\n",
    "target_data.rename(columns={'CSUSHPISA':'target'}, inplace=True)\n",
    "target_data.index = pd.to_datetime(target_data.index)\n",
    "target_data = target_data[\"2004-01-01\":\"2024-03-01\"]\n",
    "\n",
    "target_data[\"target\"] = target_data['target'].round(3)\n",
    "\n",
    "target_data.head()"
   ],
   "metadata": {
    "collapsed": false,
    "ExecuteTime": {
     "end_time": "2024-06-10T11:54:59.472974500Z",
     "start_time": "2024-06-10T11:54:59.309058800Z"
    }
   }
  },
  {
   "cell_type": "code",
   "execution_count": 85,
   "outputs": [
    {
     "data": {
      "text/plain": "(243, 1)"
     },
     "execution_count": 85,
     "metadata": {},
     "output_type": "execute_result"
    }
   ],
   "source": [
    "target_data.shape"
   ],
   "metadata": {
    "collapsed": false,
    "ExecuteTime": {
     "end_time": "2024-06-10T11:55:16.094821600Z",
     "start_time": "2024-06-10T11:55:16.078717900Z"
    }
   }
  },
  {
   "cell_type": "code",
   "execution_count": 86,
   "outputs": [],
   "source": [
    "# storing the data into Cleaned data folder\n",
    "target_data.to_csv(\"Cleaned Data/target_data.csv\")"
   ],
   "metadata": {
    "collapsed": false,
    "ExecuteTime": {
     "end_time": "2024-06-10T11:55:19.341421Z",
     "start_time": "2024-06-10T11:55:19.254204800Z"
    }
   }
  },
  {
   "cell_type": "markdown",
   "source": [
    "<h2>2. Population</h2>\n",
    "<h3> <i>Population include resident as well as armed forces who serving outside</i></h3>"
   ],
   "metadata": {
    "collapsed": false
   }
  },
  {
   "cell_type": "code",
   "execution_count": 87,
   "outputs": [
    {
     "data": {
      "text/plain": "            population\nDATE                  \n2004-01-01    292046.0\n2004-02-01    292230.0\n2004-03-01    292434.0\n2004-04-01    292651.0\n2004-05-01    292872.0",
      "text/html": "<div>\n<style scoped>\n    .dataframe tbody tr th:only-of-type {\n        vertical-align: middle;\n    }\n\n    .dataframe tbody tr th {\n        vertical-align: top;\n    }\n\n    .dataframe thead th {\n        text-align: right;\n    }\n</style>\n<table border=\"1\" class=\"dataframe\">\n  <thead>\n    <tr style=\"text-align: right;\">\n      <th></th>\n      <th>population</th>\n    </tr>\n    <tr>\n      <th>DATE</th>\n      <th></th>\n    </tr>\n  </thead>\n  <tbody>\n    <tr>\n      <th>2004-01-01</th>\n      <td>292046.0</td>\n    </tr>\n    <tr>\n      <th>2004-02-01</th>\n      <td>292230.0</td>\n    </tr>\n    <tr>\n      <th>2004-03-01</th>\n      <td>292434.0</td>\n    </tr>\n    <tr>\n      <th>2004-04-01</th>\n      <td>292651.0</td>\n    </tr>\n    <tr>\n      <th>2004-05-01</th>\n      <td>292872.0</td>\n    </tr>\n  </tbody>\n</table>\n</div>"
     },
     "execution_count": 87,
     "metadata": {},
     "output_type": "execute_result"
    }
   ],
   "source": [
    "# Load the population data\n",
    "population_data = pd.read_csv(\"./Raw Data/POPTHM.csv\")\n",
    "\n",
    "# Setting Date index and other thing from date 2004-01-01 to date 2024-03-01\n",
    "\n",
    "population_data.set_index('DATE', inplace =True)\n",
    "population_data.rename(columns= {'POPTHM': 'population'}, inplace =True)\n",
    "population_data.index = pd.to_datetime(population_data.index)\n",
    "population_data = population_data[\"2004-01-01\":\"2024-03-01\"]\n",
    "\n",
    "population_data.head()"
   ],
   "metadata": {
    "collapsed": false,
    "ExecuteTime": {
     "end_time": "2024-06-10T11:56:31.838228200Z",
     "start_time": "2024-06-10T11:56:31.767940300Z"
    }
   }
  },
  {
   "cell_type": "code",
   "execution_count": 88,
   "outputs": [
    {
     "data": {
      "text/plain": "(243, 1)"
     },
     "execution_count": 88,
     "metadata": {},
     "output_type": "execute_result"
    }
   ],
   "source": [
    "population_data.shape"
   ],
   "metadata": {
    "collapsed": false,
    "ExecuteTime": {
     "end_time": "2024-06-10T11:56:37.247189100Z",
     "start_time": "2024-06-10T11:56:37.210231Z"
    }
   }
  },
  {
   "cell_type": "code",
   "execution_count": 89,
   "outputs": [],
   "source": [
    "# store the data into cleaned data\n",
    "population_data.to_csv(\"Cleaned Data/population.csv\")"
   ],
   "metadata": {
    "collapsed": false,
    "ExecuteTime": {
     "end_time": "2024-06-10T11:56:40.161744Z",
     "start_time": "2024-06-10T11:56:40.117024400Z"
    }
   }
  },
  {
   "cell_type": "markdown",
   "source": [
    "<h2>3. Personal Income</h1>\n",
    "<h3><i>Income person return for their provision labour, land, capital used and next current payment transfer"
   ],
   "metadata": {
    "collapsed": false
   }
  },
  {
   "cell_type": "code",
   "execution_count": 90,
   "outputs": [
    {
     "data": {
      "text/plain": "            income\nDATE              \n2004-01-01  9731.8\n2004-02-01  9765.4\n2004-03-01  9815.8\n2004-04-01  9865.8\n2004-05-01  9950.0",
      "text/html": "<div>\n<style scoped>\n    .dataframe tbody tr th:only-of-type {\n        vertical-align: middle;\n    }\n\n    .dataframe tbody tr th {\n        vertical-align: top;\n    }\n\n    .dataframe thead th {\n        text-align: right;\n    }\n</style>\n<table border=\"1\" class=\"dataframe\">\n  <thead>\n    <tr style=\"text-align: right;\">\n      <th></th>\n      <th>income</th>\n    </tr>\n    <tr>\n      <th>DATE</th>\n      <th></th>\n    </tr>\n  </thead>\n  <tbody>\n    <tr>\n      <th>2004-01-01</th>\n      <td>9731.8</td>\n    </tr>\n    <tr>\n      <th>2004-02-01</th>\n      <td>9765.4</td>\n    </tr>\n    <tr>\n      <th>2004-03-01</th>\n      <td>9815.8</td>\n    </tr>\n    <tr>\n      <th>2004-04-01</th>\n      <td>9865.8</td>\n    </tr>\n    <tr>\n      <th>2004-05-01</th>\n      <td>9950.0</td>\n    </tr>\n  </tbody>\n</table>\n</div>"
     },
     "execution_count": 90,
     "metadata": {},
     "output_type": "execute_result"
    }
   ],
   "source": [
    "# load the income data\n",
    "income_data =  pd.read_csv(\"./Raw Data/PI.csv\")\n",
    "\n",
    "# Setting DATE as index, column renaming, setting DATE as index, filtering data from \"2004-01-01\":\"2024-03-01\"\n",
    "\n",
    "income_data.set_index('DATE', inplace =True)\n",
    "income_data.rename(columns= {'PI': 'income'}, inplace =True)\n",
    "income_data.index = pd.to_datetime(income_data.index)\n",
    "income_data = income_data[\"2004-01-01\":\"2024-03-01\"]\n",
    "\n",
    "income_data.head()"
   ],
   "metadata": {
    "collapsed": false,
    "ExecuteTime": {
     "end_time": "2024-06-10T11:57:00.985624700Z",
     "start_time": "2024-06-10T11:57:00.838047600Z"
    }
   }
  },
  {
   "cell_type": "code",
   "execution_count": 91,
   "outputs": [
    {
     "data": {
      "text/plain": "(243, 1)"
     },
     "execution_count": 91,
     "metadata": {},
     "output_type": "execute_result"
    }
   ],
   "source": [
    "income_data.shape"
   ],
   "metadata": {
    "collapsed": false,
    "ExecuteTime": {
     "end_time": "2024-06-10T11:57:05.609430300Z",
     "start_time": "2024-06-10T11:57:05.575429500Z"
    }
   }
  },
  {
   "cell_type": "code",
   "execution_count": 92,
   "outputs": [],
   "source": [
    "income_data.to_csv(\"Cleaned Data/income.csv\")"
   ],
   "metadata": {
    "collapsed": false,
    "ExecuteTime": {
     "end_time": "2024-06-10T11:57:11.577257900Z",
     "start_time": "2024-06-10T11:57:11.557432600Z"
    }
   }
  },
  {
   "cell_type": "markdown",
   "source": [
    "## 4. Gross Domestic Product\n",
    "\n",
    "#### <i>Featured measure of U.S. output, is the market value of the goods and services produced by labor and property located in the United States.</i>"
   ],
   "metadata": {
    "collapsed": false
   }
  },
  {
   "cell_type": "code",
   "execution_count": 93,
   "outputs": [
    {
     "data": {
      "text/plain": "                  GDP\nDATE                 \n2004-01-31  11923.447\n2004-02-29  11923.447\n2004-03-31  11923.447\n2004-04-30  12112.815\n2004-05-31  12112.815",
      "text/html": "<div>\n<style scoped>\n    .dataframe tbody tr th:only-of-type {\n        vertical-align: middle;\n    }\n\n    .dataframe tbody tr th {\n        vertical-align: top;\n    }\n\n    .dataframe thead th {\n        text-align: right;\n    }\n</style>\n<table border=\"1\" class=\"dataframe\">\n  <thead>\n    <tr style=\"text-align: right;\">\n      <th></th>\n      <th>GDP</th>\n    </tr>\n    <tr>\n      <th>DATE</th>\n      <th></th>\n    </tr>\n  </thead>\n  <tbody>\n    <tr>\n      <th>2004-01-31</th>\n      <td>11923.447</td>\n    </tr>\n    <tr>\n      <th>2004-02-29</th>\n      <td>11923.447</td>\n    </tr>\n    <tr>\n      <th>2004-03-31</th>\n      <td>11923.447</td>\n    </tr>\n    <tr>\n      <th>2004-04-30</th>\n      <td>12112.815</td>\n    </tr>\n    <tr>\n      <th>2004-05-31</th>\n      <td>12112.815</td>\n    </tr>\n  </tbody>\n</table>\n</div>"
     },
     "execution_count": 93,
     "metadata": {},
     "output_type": "execute_result"
    }
   ],
   "source": [
    "gdp_data = pd.read_csv(\"./Raw Data/GDP.csv\")\n",
    "\n",
    "# filtering data from 2004 to 2024\n",
    "gdp_data.set_index('DATE', inplace=True)\n",
    "gdp_data.index = pd.to_datetime(gdp_data.index)\n",
    "\n",
    "# resampling\n",
    "gdp_data = gdp_data.resample('M').ffill()\n",
    "\n",
    "gdp_data = gdp_data[\"2004-01-01\":\"2024-03-01\"]\n",
    "\n",
    "gdp_data.head()"
   ],
   "metadata": {
    "collapsed": false,
    "ExecuteTime": {
     "end_time": "2024-06-10T11:57:28.434338400Z",
     "start_time": "2024-06-10T11:57:27.874847100Z"
    }
   }
  },
  {
   "cell_type": "code",
   "execution_count": 94,
   "outputs": [
    {
     "data": {
      "text/plain": "(241, 1)"
     },
     "execution_count": 94,
     "metadata": {},
     "output_type": "execute_result"
    }
   ],
   "source": [
    "gdp_data.shape"
   ],
   "metadata": {
    "collapsed": false,
    "ExecuteTime": {
     "end_time": "2024-06-10T11:57:33.358364200Z",
     "start_time": "2024-06-10T11:57:33.350250800Z"
    }
   }
  },
  {
   "cell_type": "code",
   "execution_count": 122,
   "outputs": [],
   "source": [
    "# load data into cleaned data\n",
    "gdp_data.to_csv(\"Cleaned Data/gdp.csv\")"
   ],
   "metadata": {
    "collapsed": false,
    "ExecuteTime": {
     "end_time": "2024-06-10T14:42:02.800867300Z",
     "start_time": "2024-06-10T14:42:02.689111800Z"
    }
   }
  },
  {
   "cell_type": "markdown",
   "source": [],
   "metadata": {
    "collapsed": false
   }
  },
  {
   "cell_type": "markdown",
   "source": [
    "## 5. Unemployment Rate\n",
    "\n",
    "#### <i>The unemployment rate represents the number of unemployed as a percentage of the labor force.</i>"
   ],
   "metadata": {
    "collapsed": false
   }
  },
  {
   "cell_type": "code",
   "execution_count": 96,
   "outputs": [
    {
     "data": {
      "text/plain": "            unemployed_rate\nDATE                       \n2004-01-01              5.7\n2004-02-01              5.6\n2004-03-01              5.8\n2004-04-01              5.6\n2004-05-01              5.6",
      "text/html": "<div>\n<style scoped>\n    .dataframe tbody tr th:only-of-type {\n        vertical-align: middle;\n    }\n\n    .dataframe tbody tr th {\n        vertical-align: top;\n    }\n\n    .dataframe thead th {\n        text-align: right;\n    }\n</style>\n<table border=\"1\" class=\"dataframe\">\n  <thead>\n    <tr style=\"text-align: right;\">\n      <th></th>\n      <th>unemployed_rate</th>\n    </tr>\n    <tr>\n      <th>DATE</th>\n      <th></th>\n    </tr>\n  </thead>\n  <tbody>\n    <tr>\n      <th>2004-01-01</th>\n      <td>5.7</td>\n    </tr>\n    <tr>\n      <th>2004-02-01</th>\n      <td>5.6</td>\n    </tr>\n    <tr>\n      <th>2004-03-01</th>\n      <td>5.8</td>\n    </tr>\n    <tr>\n      <th>2004-04-01</th>\n      <td>5.6</td>\n    </tr>\n    <tr>\n      <th>2004-05-01</th>\n      <td>5.6</td>\n    </tr>\n  </tbody>\n</table>\n</div>"
     },
     "execution_count": 96,
     "metadata": {},
     "output_type": "execute_result"
    }
   ],
   "source": [
    "unemploymentRate_data = pd.read_csv(\"./Raw Data/UNRATE.csv\")\n",
    "\n",
    "# Setting DATE as index, column renaming, setting DATE as index, filtering data from \"2004-01-01\":\"2024-03-01\"\n",
    "\n",
    "unemploymentRate_data.set_index('DATE', inplace =True)\n",
    "unemploymentRate_data.rename(columns= {'UNRATE': 'unemployed_rate'}, inplace =True)\n",
    "unemploymentRate_data.index = pd.to_datetime(unemploymentRate_data.index)\n",
    "unemploymentRate_data = unemploymentRate_data[\"2004-01-01\":\"2024-03-01\"]\n",
    "\n",
    "unemploymentRate_data.head()"
   ],
   "metadata": {
    "collapsed": false,
    "ExecuteTime": {
     "end_time": "2024-06-10T11:57:51.237400700Z",
     "start_time": "2024-06-10T11:57:51.100303800Z"
    }
   }
  },
  {
   "cell_type": "code",
   "execution_count": 97,
   "outputs": [
    {
     "data": {
      "text/plain": "(243, 1)"
     },
     "execution_count": 97,
     "metadata": {},
     "output_type": "execute_result"
    }
   ],
   "source": [
    "unemploymentRate_data.shape"
   ],
   "metadata": {
    "collapsed": false,
    "ExecuteTime": {
     "end_time": "2024-06-10T11:57:57.916336300Z",
     "start_time": "2024-06-10T11:57:57.902841Z"
    }
   }
  },
  {
   "cell_type": "code",
   "execution_count": 98,
   "outputs": [],
   "source": [
    "# load into cleaned data\n",
    "unemploymentRate_data.to_csv(\"Cleaned Data/unemployed_rate.csv\")"
   ],
   "metadata": {
    "collapsed": false,
    "ExecuteTime": {
     "end_time": "2024-06-10T11:58:00.209214700Z",
     "start_time": "2024-06-10T11:58:00.189753500Z"
    }
   }
  },
  {
   "cell_type": "markdown",
   "source": [
    "## 6. Housing starts (New Housing Project)\n",
    "\n",
    "#### <i>This is a measure of the number of units of new housing projects started in a given period.</i>"
   ],
   "metadata": {
    "collapsed": false
   }
  },
  {
   "cell_type": "code",
   "execution_count": 157,
   "outputs": [
    {
     "data": {
      "text/plain": "            house_start\nDATE                   \n2004-01-01       1911.0\n2004-02-01       1846.0\n2004-03-01       1998.0\n2004-04-01       2003.0\n2004-05-01       1981.0",
      "text/html": "<div>\n<style scoped>\n    .dataframe tbody tr th:only-of-type {\n        vertical-align: middle;\n    }\n\n    .dataframe tbody tr th {\n        vertical-align: top;\n    }\n\n    .dataframe thead th {\n        text-align: right;\n    }\n</style>\n<table border=\"1\" class=\"dataframe\">\n  <thead>\n    <tr style=\"text-align: right;\">\n      <th></th>\n      <th>house_start</th>\n    </tr>\n    <tr>\n      <th>DATE</th>\n      <th></th>\n    </tr>\n  </thead>\n  <tbody>\n    <tr>\n      <th>2004-01-01</th>\n      <td>1911.0</td>\n    </tr>\n    <tr>\n      <th>2004-02-01</th>\n      <td>1846.0</td>\n    </tr>\n    <tr>\n      <th>2004-03-01</th>\n      <td>1998.0</td>\n    </tr>\n    <tr>\n      <th>2004-04-01</th>\n      <td>2003.0</td>\n    </tr>\n    <tr>\n      <th>2004-05-01</th>\n      <td>1981.0</td>\n    </tr>\n  </tbody>\n</table>\n</div>"
     },
     "execution_count": 157,
     "metadata": {},
     "output_type": "execute_result"
    }
   ],
   "source": [
    "housingStart_data = pd.read_csv(\"./Raw Data/HOUST.csv\")\n",
    "\n",
    "# Setting DATE as index, column renaming, setting DATE as index, filtering data from \"2004-01-01\":\"2024-03-01\"\n",
    "housingStart_data.set_index('DATE', inplace =True)\n",
    "housingStart_data.rename(columns= {'HOUST': 'house_start'}, inplace =True)\n",
    "housingStart_data.index = pd.to_datetime(housingStart_data.index)\n",
    "housingStart_data = housingStart_data[\"2004-01-01\":\"2024-03-01\"]\n",
    "\n",
    "housingStart_data.head()"
   ],
   "metadata": {
    "collapsed": false,
    "ExecuteTime": {
     "end_time": "2024-06-10T17:40:44.341317300Z",
     "start_time": "2024-06-10T17:40:44.123185800Z"
    }
   }
  },
  {
   "cell_type": "code",
   "execution_count": 100,
   "outputs": [
    {
     "data": {
      "text/plain": "(243, 1)"
     },
     "execution_count": 100,
     "metadata": {},
     "output_type": "execute_result"
    }
   ],
   "source": [
    "housingStart_data.shape"
   ],
   "metadata": {
    "collapsed": false,
    "ExecuteTime": {
     "end_time": "2024-06-10T11:58:31.103484200Z",
     "start_time": "2024-06-10T11:58:31.096133900Z"
    }
   }
  },
  {
   "cell_type": "code",
   "execution_count": 101,
   "outputs": [],
   "source": [
    "# load the filter data into Cleaned data\n",
    "housingStart_data.to_csv(\"Cleaned Data/house_starts.csv\")"
   ],
   "metadata": {
    "collapsed": false,
    "ExecuteTime": {
     "end_time": "2024-06-10T11:58:33.911970100Z",
     "start_time": "2024-06-10T11:58:33.632831900Z"
    }
   }
  },
  {
   "cell_type": "markdown",
   "source": [
    "## 7. Mortgage Rate\n",
    "\n",
    "#### <i>A mortgage rate is the interest rate charged for a home loan </i>"
   ],
   "metadata": {
    "collapsed": false
   }
  },
  {
   "cell_type": "code",
   "execution_count": 166,
   "outputs": [
    {
     "data": {
      "text/plain": "            mortgage_rate\nDATE                     \n2004-01-31         5.7125\n2004-02-29         5.6350\n2004-03-31         5.4450\n2004-04-30         5.8300\n2004-05-31         6.2700\n...                   ...\n2023-10-31         7.7900\n2023-11-30         7.2200\n2023-12-31         6.6100\n2024-01-31         6.6900\n2024-02-29         6.9400\n\n[242 rows x 1 columns]",
      "text/html": "<div>\n<style scoped>\n    .dataframe tbody tr th:only-of-type {\n        vertical-align: middle;\n    }\n\n    .dataframe tbody tr th {\n        vertical-align: top;\n    }\n\n    .dataframe thead th {\n        text-align: right;\n    }\n</style>\n<table border=\"1\" class=\"dataframe\">\n  <thead>\n    <tr style=\"text-align: right;\">\n      <th></th>\n      <th>mortgage_rate</th>\n    </tr>\n    <tr>\n      <th>DATE</th>\n      <th></th>\n    </tr>\n  </thead>\n  <tbody>\n    <tr>\n      <th>2004-01-31</th>\n      <td>5.7125</td>\n    </tr>\n    <tr>\n      <th>2004-02-29</th>\n      <td>5.6350</td>\n    </tr>\n    <tr>\n      <th>2004-03-31</th>\n      <td>5.4450</td>\n    </tr>\n    <tr>\n      <th>2004-04-30</th>\n      <td>5.8300</td>\n    </tr>\n    <tr>\n      <th>2004-05-31</th>\n      <td>6.2700</td>\n    </tr>\n    <tr>\n      <th>...</th>\n      <td>...</td>\n    </tr>\n    <tr>\n      <th>2023-10-31</th>\n      <td>7.7900</td>\n    </tr>\n    <tr>\n      <th>2023-11-30</th>\n      <td>7.2200</td>\n    </tr>\n    <tr>\n      <th>2023-12-31</th>\n      <td>6.6100</td>\n    </tr>\n    <tr>\n      <th>2024-01-31</th>\n      <td>6.6900</td>\n    </tr>\n    <tr>\n      <th>2024-02-29</th>\n      <td>6.9400</td>\n    </tr>\n  </tbody>\n</table>\n<p>242 rows × 1 columns</p>\n</div>"
     },
     "execution_count": 166,
     "metadata": {},
     "output_type": "execute_result"
    }
   ],
   "source": [
    "mortgage_data =  pd.read_csv(\"./Raw Data/MORTGAGE30US.csv\")\n",
    "\n",
    "# filtering data from 2004 to 2024\n",
    "mortgage_data.set_index('DATE', inplace =True)\n",
    "mortgage_data.rename(columns= {'MORTGAGE30US': 'mortgage_rate'}, inplace =True)\n",
    "mortgage_data.index = pd.to_datetime(mortgage_data.index, dayfirst= True)\n",
    "\n",
    "mortgage_data = mortgage_data.resample('M').ffill()\n",
    "\n",
    "mortgage_data = mortgage_data[\"2004-01-01\":\"2024-03-01\"]\n",
    "\n",
    "mortgage_data"
   ],
   "metadata": {
    "collapsed": false,
    "ExecuteTime": {
     "end_time": "2024-06-10T19:50:10.874486200Z",
     "start_time": "2024-06-10T19:50:10.292489800Z"
    }
   }
  },
  {
   "cell_type": "code",
   "execution_count": 167,
   "outputs": [
    {
     "data": {
      "text/plain": "(242, 1)"
     },
     "execution_count": 167,
     "metadata": {},
     "output_type": "execute_result"
    }
   ],
   "source": [
    "mortgage_data.shape"
   ],
   "metadata": {
    "collapsed": false,
    "ExecuteTime": {
     "end_time": "2024-06-10T19:50:17.264935Z",
     "start_time": "2024-06-10T19:50:17.196111300Z"
    }
   }
  },
  {
   "cell_type": "code",
   "execution_count": 172,
   "outputs": [],
   "source": [
    "mortgage_data.to_csv(\"Cleaned Data/mortgage.csv\")"
   ],
   "metadata": {
    "collapsed": false,
    "ExecuteTime": {
     "end_time": "2024-06-10T19:54:31.581447100Z",
     "start_time": "2024-06-10T19:54:30.661028500Z"
    }
   }
  },
  {
   "cell_type": "markdown",
   "source": [
    "## 8. Employment-Population Ratio (emratio)"
   ],
   "metadata": {
    "collapsed": false
   }
  },
  {
   "cell_type": "code",
   "execution_count": 170,
   "outputs": [
    {
     "data": {
      "text/plain": "            emratio\nDATE               \n2004-01-01     62.3\n2004-02-01     62.3\n2004-03-01     62.2\n2004-04-01     62.3\n2004-05-01     62.3",
      "text/html": "<div>\n<style scoped>\n    .dataframe tbody tr th:only-of-type {\n        vertical-align: middle;\n    }\n\n    .dataframe tbody tr th {\n        vertical-align: top;\n    }\n\n    .dataframe thead th {\n        text-align: right;\n    }\n</style>\n<table border=\"1\" class=\"dataframe\">\n  <thead>\n    <tr style=\"text-align: right;\">\n      <th></th>\n      <th>emratio</th>\n    </tr>\n    <tr>\n      <th>DATE</th>\n      <th></th>\n    </tr>\n  </thead>\n  <tbody>\n    <tr>\n      <th>2004-01-01</th>\n      <td>62.3</td>\n    </tr>\n    <tr>\n      <th>2004-02-01</th>\n      <td>62.3</td>\n    </tr>\n    <tr>\n      <th>2004-03-01</th>\n      <td>62.2</td>\n    </tr>\n    <tr>\n      <th>2004-04-01</th>\n      <td>62.3</td>\n    </tr>\n    <tr>\n      <th>2004-05-01</th>\n      <td>62.3</td>\n    </tr>\n  </tbody>\n</table>\n</div>"
     },
     "execution_count": 170,
     "metadata": {},
     "output_type": "execute_result"
    }
   ],
   "source": [
    "emratio = pd.read_csv(\"./Raw Data/EMRATIO.csv\")\n",
    "\n",
    "# filtering data from 2004 to 2024\n",
    "emratio.set_index('DATE', inplace =True)\n",
    "emratio.rename(columns= {'EMRATIO': 'emratio'}, inplace =True)\n",
    "emratio.index = pd.to_datetime(emratio.index)\n",
    "\n",
    "emratio = emratio[\"2004-01-01\":\"2023-07-01\"]\n",
    "\n",
    "emratio.head()"
   ],
   "metadata": {
    "collapsed": false,
    "ExecuteTime": {
     "end_time": "2024-06-10T19:51:41.513168700Z",
     "start_time": "2024-06-10T19:51:41.446752400Z"
    }
   }
  },
  {
   "cell_type": "code",
   "execution_count": 171,
   "outputs": [
    {
     "data": {
      "text/plain": "(235, 1)"
     },
     "execution_count": 171,
     "metadata": {},
     "output_type": "execute_result"
    }
   ],
   "source": [
    "emratio.shape"
   ],
   "metadata": {
    "collapsed": false,
    "ExecuteTime": {
     "end_time": "2024-06-10T19:51:45.718130400Z",
     "start_time": "2024-06-10T19:51:45.304658100Z"
    }
   }
  },
  {
   "cell_type": "code",
   "execution_count": 121,
   "outputs": [],
   "source": [
    "emratio.to_csv(\"Cleaned Data/emratio.csv\")"
   ],
   "metadata": {
    "collapsed": false,
    "ExecuteTime": {
     "end_time": "2024-06-10T14:40:10.465601100Z",
     "start_time": "2024-06-10T14:40:10.262265700Z"
    }
   }
  },
  {
   "cell_type": "markdown",
   "source": [
    "## 9. Consumer Price Index (IR - Inflation Rate)\n",
    "#### <i>Consumer Price Index for All Urban Consumers: All Items</i>"
   ],
   "metadata": {
    "collapsed": false
   }
  },
  {
   "cell_type": "code",
   "execution_count": 160,
   "outputs": [
    {
     "data": {
      "text/plain": "            consumer_price_index\nDATE                            \n2004-01-01                 186.3\n2004-02-01                 186.7\n2004-03-01                 187.1\n2004-04-01                 187.4\n2004-05-01                 188.2",
      "text/html": "<div>\n<style scoped>\n    .dataframe tbody tr th:only-of-type {\n        vertical-align: middle;\n    }\n\n    .dataframe tbody tr th {\n        vertical-align: top;\n    }\n\n    .dataframe thead th {\n        text-align: right;\n    }\n</style>\n<table border=\"1\" class=\"dataframe\">\n  <thead>\n    <tr style=\"text-align: right;\">\n      <th></th>\n      <th>consumer_price_index</th>\n    </tr>\n    <tr>\n      <th>DATE</th>\n      <th></th>\n    </tr>\n  </thead>\n  <tbody>\n    <tr>\n      <th>2004-01-01</th>\n      <td>186.3</td>\n    </tr>\n    <tr>\n      <th>2004-02-01</th>\n      <td>186.7</td>\n    </tr>\n    <tr>\n      <th>2004-03-01</th>\n      <td>187.1</td>\n    </tr>\n    <tr>\n      <th>2004-04-01</th>\n      <td>187.4</td>\n    </tr>\n    <tr>\n      <th>2004-05-01</th>\n      <td>188.2</td>\n    </tr>\n  </tbody>\n</table>\n</div>"
     },
     "execution_count": 160,
     "metadata": {},
     "output_type": "execute_result"
    }
   ],
   "source": [
    "consumer_data = pd.read_csv(\"./Raw Data/CPIAUCSL.csv\")\n",
    "\n",
    "consumer_data.set_index(\"DATE\", inplace=True)\n",
    "consumer_data.rename(columns={'CPIAUCSL':'consumer_price_index'}, inplace=True)\n",
    "consumer_data.index = pd.to_datetime(consumer_data.index)\n",
    "\n",
    "# Resampling\n",
    "consumer_data = consumer_data.resample('M').ffill()\n",
    "\n",
    "# # Set the day of the index to 1\n",
    "consumer_data.index = consumer_data.index.map(lambda x: x.replace(day=1))\n",
    "consumer_data = consumer_data[\"2004-01-01\":\"2024-01-01\"]\n",
    "\n",
    "consumer_data.head()"
   ],
   "metadata": {
    "collapsed": false,
    "ExecuteTime": {
     "end_time": "2024-06-10T17:57:44.741786Z",
     "start_time": "2024-06-10T17:57:44.100629200Z"
    }
   }
  },
  {
   "cell_type": "code",
   "execution_count": 161,
   "outputs": [
    {
     "data": {
      "text/plain": "(241, 1)"
     },
     "execution_count": 161,
     "metadata": {},
     "output_type": "execute_result"
    }
   ],
   "source": [
    "consumer_data.shape"
   ],
   "metadata": {
    "collapsed": false,
    "ExecuteTime": {
     "end_time": "2024-06-10T17:57:51.921038800Z",
     "start_time": "2024-06-10T17:57:51.870575700Z"
    }
   }
  },
  {
   "cell_type": "code",
   "execution_count": 162,
   "outputs": [],
   "source": [
    "consumer_data.to_csv(\"Cleaned Data/consumer_price_index.csv\")"
   ],
   "metadata": {
    "collapsed": false,
    "ExecuteTime": {
     "end_time": "2024-06-10T17:57:55.566311800Z",
     "start_time": "2024-06-10T17:57:55.419798400Z"
    }
   }
  },
  {
   "cell_type": "markdown",
   "source": [
    "## 10. Median Sales Price.\n",
    "\n",
    "#### Median Sales Price of Houses Sold for the United States.(US Dollers)"
   ],
   "metadata": {
    "collapsed": false
   }
  },
  {
   "cell_type": "code",
   "execution_count": 145,
   "outputs": [
    {
     "data": {
      "text/plain": "            median_sales_price\nDATE                          \n2004-01-01            212700.0\n2004-02-01            212700.0\n2004-03-01            212700.0\n2004-04-01            217600.0\n2004-05-01            217600.0",
      "text/html": "<div>\n<style scoped>\n    .dataframe tbody tr th:only-of-type {\n        vertical-align: middle;\n    }\n\n    .dataframe tbody tr th {\n        vertical-align: top;\n    }\n\n    .dataframe thead th {\n        text-align: right;\n    }\n</style>\n<table border=\"1\" class=\"dataframe\">\n  <thead>\n    <tr style=\"text-align: right;\">\n      <th></th>\n      <th>median_sales_price</th>\n    </tr>\n    <tr>\n      <th>DATE</th>\n      <th></th>\n    </tr>\n  </thead>\n  <tbody>\n    <tr>\n      <th>2004-01-01</th>\n      <td>212700.0</td>\n    </tr>\n    <tr>\n      <th>2004-02-01</th>\n      <td>212700.0</td>\n    </tr>\n    <tr>\n      <th>2004-03-01</th>\n      <td>212700.0</td>\n    </tr>\n    <tr>\n      <th>2004-04-01</th>\n      <td>217600.0</td>\n    </tr>\n    <tr>\n      <th>2004-05-01</th>\n      <td>217600.0</td>\n    </tr>\n  </tbody>\n</table>\n</div>"
     },
     "execution_count": 145,
     "metadata": {},
     "output_type": "execute_result"
    }
   ],
   "source": [
    "mspus = pd.read_csv(\"./Raw Data/MSPUS.csv\")\n",
    "\n",
    "mspus.set_index('DATE', inplace=True)\n",
    "mspus.index = pd.to_datetime(mspus.index)\n",
    "mspus.rename(columns={'MSPUS':'median_sales_price'}, inplace=True)\n",
    "# Resampling\n",
    "mspus = mspus.resample('M').ffill()\n",
    "# # Set the day of the index to 1\n",
    "mspus.index = mspus.index.map(lambda x: x.replace(day=1))\n",
    "mspus = mspus[\"2004-01-01\":\"2024-03-01\"]\n",
    "\n",
    "mspus.head()"
   ],
   "metadata": {
    "collapsed": false,
    "ExecuteTime": {
     "end_time": "2024-06-10T16:25:32.698710400Z",
     "start_time": "2024-06-10T16:25:32.663708300Z"
    }
   }
  },
  {
   "cell_type": "code",
   "execution_count": 142,
   "outputs": [
    {
     "data": {
      "text/plain": "(241, 1)"
     },
     "execution_count": 142,
     "metadata": {},
     "output_type": "execute_result"
    }
   ],
   "source": [
    "mspus.shape"
   ],
   "metadata": {
    "collapsed": false,
    "ExecuteTime": {
     "end_time": "2024-06-10T16:21:41.903920900Z",
     "start_time": "2024-06-10T16:21:41.890742500Z"
    }
   }
  },
  {
   "cell_type": "code",
   "execution_count": 146,
   "outputs": [],
   "source": [
    "mspus.to_csv(\"Cleaned Data/median_sales_price.csv\")"
   ],
   "metadata": {
    "collapsed": false,
    "ExecuteTime": {
     "end_time": "2024-06-10T16:25:39.211744400Z",
     "start_time": "2024-06-10T16:25:39.197062800Z"
    }
   }
  },
  {
   "cell_type": "markdown",
   "source": [
    "## 11. Homeownership Rate (Percentage)\n",
    "\n",
    "#### The homeownership rate is the proportion of households that is owner-occupied."
   ],
   "metadata": {
    "collapsed": false
   }
  },
  {
   "cell_type": "code",
   "execution_count": 149,
   "outputs": [
    {
     "data": {
      "text/plain": "            home_ow_rate\nDATE                    \n2004-01-01          68.7\n2004-02-01          68.7\n2004-03-01          68.7\n2004-04-01          69.4\n2004-05-01          69.4",
      "text/html": "<div>\n<style scoped>\n    .dataframe tbody tr th:only-of-type {\n        vertical-align: middle;\n    }\n\n    .dataframe tbody tr th {\n        vertical-align: top;\n    }\n\n    .dataframe thead th {\n        text-align: right;\n    }\n</style>\n<table border=\"1\" class=\"dataframe\">\n  <thead>\n    <tr style=\"text-align: right;\">\n      <th></th>\n      <th>home_ow_rate</th>\n    </tr>\n    <tr>\n      <th>DATE</th>\n      <th></th>\n    </tr>\n  </thead>\n  <tbody>\n    <tr>\n      <th>2004-01-01</th>\n      <td>68.7</td>\n    </tr>\n    <tr>\n      <th>2004-02-01</th>\n      <td>68.7</td>\n    </tr>\n    <tr>\n      <th>2004-03-01</th>\n      <td>68.7</td>\n    </tr>\n    <tr>\n      <th>2004-04-01</th>\n      <td>69.4</td>\n    </tr>\n    <tr>\n      <th>2004-05-01</th>\n      <td>69.4</td>\n    </tr>\n  </tbody>\n</table>\n</div>"
     },
     "execution_count": 149,
     "metadata": {},
     "output_type": "execute_result"
    }
   ],
   "source": [
    "home_ow_rate = pd.read_csv(\"./Raw Data/RSAHORUSQ156S.csv\")\n",
    "\n",
    "# Setting DATE as index, column renaming, setting DATE as index, filtering data from \"2004-01-01\":\"2024-03-01\"\n",
    "\n",
    "home_ow_rate.set_index('DATE', inplace =True)\n",
    "home_ow_rate.index = pd.to_datetime(home_ow_rate.index)\n",
    "home_ow_rate.rename(columns= {'RSAHORUSQ156S': 'home_ow_rate'}, inplace =True)\n",
    "\n",
    "# Resampling\n",
    "home_ow_rate = home_ow_rate.resample('M').ffill()\n",
    "\n",
    "# # Set the day of the index to 1\n",
    "home_ow_rate.index = home_ow_rate.index.map(lambda x: x.replace(day=1))\n",
    "home_ow_rate = home_ow_rate[\"2004-01-01\":\"2024-03-01\"]\n",
    "\n",
    "home_ow_rate.head()"
   ],
   "metadata": {
    "collapsed": false,
    "ExecuteTime": {
     "end_time": "2024-06-10T16:31:43.936545300Z",
     "start_time": "2024-06-10T16:31:43.746472300Z"
    }
   }
  },
  {
   "cell_type": "code",
   "execution_count": 150,
   "outputs": [
    {
     "data": {
      "text/plain": "(241, 1)"
     },
     "execution_count": 150,
     "metadata": {},
     "output_type": "execute_result"
    }
   ],
   "source": [
    "home_ow_rate.shape"
   ],
   "metadata": {
    "collapsed": false,
    "ExecuteTime": {
     "end_time": "2024-06-10T16:31:57.725260600Z",
     "start_time": "2024-06-10T16:31:57.681545900Z"
    }
   }
  },
  {
   "cell_type": "code",
   "execution_count": 151,
   "outputs": [],
   "source": [
    "housingStart_data.to_csv(\"Cleaned Data/house_ownership_rate.csv\")"
   ],
   "metadata": {
    "collapsed": false,
    "ExecuteTime": {
     "end_time": "2024-06-10T16:33:36.883148500Z",
     "start_time": "2024-06-10T16:33:36.809965Z"
    }
   }
  },
  {
   "cell_type": "markdown",
   "source": [
    "## 12. Consumer Confidence Index\n",
    "#### University of Michigan: Consumer Sentiment"
   ],
   "metadata": {
    "collapsed": false
   }
  },
  {
   "cell_type": "code",
   "execution_count": 163,
   "outputs": [
    {
     "data": {
      "text/plain": "           consumer_confidence_index\nDATE                                \n2004-01-01                     103.8\n2004-02-01                      94.4\n2004-03-01                      95.8\n2004-04-01                      94.2\n2004-05-01                      90.2",
      "text/html": "<div>\n<style scoped>\n    .dataframe tbody tr th:only-of-type {\n        vertical-align: middle;\n    }\n\n    .dataframe tbody tr th {\n        vertical-align: top;\n    }\n\n    .dataframe thead th {\n        text-align: right;\n    }\n</style>\n<table border=\"1\" class=\"dataframe\">\n  <thead>\n    <tr style=\"text-align: right;\">\n      <th></th>\n      <th>consumer_confidence_index</th>\n    </tr>\n    <tr>\n      <th>DATE</th>\n      <th></th>\n    </tr>\n  </thead>\n  <tbody>\n    <tr>\n      <th>2004-01-01</th>\n      <td>103.8</td>\n    </tr>\n    <tr>\n      <th>2004-02-01</th>\n      <td>94.4</td>\n    </tr>\n    <tr>\n      <th>2004-03-01</th>\n      <td>95.8</td>\n    </tr>\n    <tr>\n      <th>2004-04-01</th>\n      <td>94.2</td>\n    </tr>\n    <tr>\n      <th>2004-05-01</th>\n      <td>90.2</td>\n    </tr>\n  </tbody>\n</table>\n</div>"
     },
     "execution_count": 163,
     "metadata": {},
     "output_type": "execute_result"
    }
   ],
   "source": [
    "cci = pd.read_csv(\"./Raw Data/UMCSENT.csv\")\n",
    "\n",
    "# filtering data from 2004 to 2024\n",
    "cci.set_index('DATE', inplace=True)\n",
    "cci.index = pd.to_datetime(cci.index)\n",
    "cci.rename(columns={'UMCSENT':'consumer_confidence_index'}, inplace=True)\n",
    "\n",
    "# Resampling\n",
    "cci = cci.resample('M').ffill()\n",
    "\n",
    "# # Set the day of the index to 1\n",
    "cci.index = cci.index.map(lambda x: x.replace(day=1))\n",
    "\n",
    "cci = cci['2004-01-01':'2024-03-01']\n",
    "\n",
    "cci.head()"
   ],
   "metadata": {
    "collapsed": false,
    "ExecuteTime": {
     "end_time": "2024-06-10T17:59:23.577326900Z",
     "start_time": "2024-06-10T17:59:23.476588100Z"
    }
   }
  },
  {
   "cell_type": "code",
   "execution_count": 164,
   "outputs": [
    {
     "data": {
      "text/plain": "(243, 1)"
     },
     "execution_count": 164,
     "metadata": {},
     "output_type": "execute_result"
    }
   ],
   "source": [
    "cci.shape"
   ],
   "metadata": {
    "collapsed": false,
    "ExecuteTime": {
     "end_time": "2024-06-10T17:59:28.262410Z",
     "start_time": "2024-06-10T17:59:28.204190800Z"
    }
   }
  },
  {
   "cell_type": "code",
   "execution_count": 165,
   "outputs": [],
   "source": [
    "cci.to_csv(\"Cleaned Data/consumer_confidence.csv\")"
   ],
   "metadata": {
    "collapsed": false,
    "ExecuteTime": {
     "end_time": "2024-06-10T17:59:36.979157700Z",
     "start_time": "2024-06-10T17:59:36.922743600Z"
    }
   }
  }
 ],
 "metadata": {
  "kernelspec": {
   "display_name": "Python 3",
   "language": "python",
   "name": "python3"
  },
  "language_info": {
   "codemirror_mode": {
    "name": "ipython",
    "version": 2
   },
   "file_extension": ".py",
   "mimetype": "text/x-python",
   "name": "python",
   "nbconvert_exporter": "python",
   "pygments_lexer": "ipython2",
   "version": "2.7.6"
  }
 },
 "nbformat": 4,
 "nbformat_minor": 0
}
